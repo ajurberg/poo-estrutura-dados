{
  "nbformat": 4,
  "nbformat_minor": 0,
  "metadata": {
    "colab": {
      "provenance": [],
      "collapsed_sections": [],
      "authorship_tag": "ABX9TyPjoewj1Gss+7XmeB7/XkxE",
      "include_colab_link": true
    },
    "kernelspec": {
      "name": "python3",
      "display_name": "Python 3"
    },
    "language_info": {
      "name": "python"
    }
  },
  "cells": [
    {
      "cell_type": "markdown",
      "metadata": {
        "id": "view-in-github",
        "colab_type": "text"
      },
      "source": [
        "<a href=\"https://colab.research.google.com/github/ajurberg/poo-estrutura-dados/blob/master/banking_OOP.ipynb\" target=\"_parent\"><img src=\"https://colab.research.google.com/assets/colab-badge.svg\" alt=\"Open In Colab\"/></a>"
      ]
    },
    {
      "cell_type": "code",
      "execution_count": 6,
      "metadata": {
        "id": "FGks_GBGpnsP"
      },
      "outputs": [],
      "source": [
        "# Parent Class\n",
        "class User():\n",
        "  def __init__(self, name, age, gender):\n",
        "    self.name = name\n",
        "    self.age = age\n",
        "    self.gender = gender\n",
        "    \n",
        "  def show_details(self):\n",
        "    print(f\"Personal user details:\")\n",
        "    print(f\"Name= {self.name}\")\n",
        "    print(f\"Age= {self.age}\")\n",
        "    print(f\"Gender= {self.gender}\")"
      ]
    },
    {
      "cell_type": "code",
      "source": [
        "johan = User(\"Johan\", 21, \"Male\")\n",
        "print(johan.show_details())"
      ],
      "metadata": {
        "colab": {
          "base_uri": "https://localhost:8080/"
        },
        "id": "AL1Srbwrq5PB",
        "outputId": "8f37df94-a8fd-43a0-e162-99b8cd105450"
      },
      "execution_count": 7,
      "outputs": [
        {
          "output_type": "stream",
          "name": "stdout",
          "text": [
            "Personal user details:\n",
            "Name= Johan\n",
            "Age= 21\n",
            "Gender= Male\n",
            "None\n"
          ]
        }
      ]
    },
    {
      "cell_type": "code",
      "source": [
        "# Child Class\n",
        "class Bank(User):\n",
        "  def __init__(self, name, age, gender):\n",
        "    super().__init__(name, age, gender)\n",
        "    self.balance = 0\n",
        "  \n",
        "  def deposit(self, amount):\n",
        "    self.amount = amount\n",
        "    self.balance = self.balance + self.amount\n",
        "    print(f\"Account balance has been updated: USD {self.balance}.\")\n",
        "  \n",
        "  def withdraw(self, amount):\n",
        "    self.amount = amount\n",
        "    if self.amount > self.balance:\n",
        "      print(f\"Insufficient funds. Balance available is USD {self.balance}.\")\n",
        "    else:\n",
        "      self.balance = self.balance - self.amount\n",
        "      print(f\"Account balance has been updated: USD {self.balance}.\")\n",
        "  \n",
        "  def view_balance(self):\n",
        "    print(f\"User details: {self.show_details()}\")\n",
        "    print(f\"Account balance is: USD {self.balance}\")"
      ],
      "metadata": {
        "id": "NXpFS8DYrUrP"
      },
      "execution_count": 15,
      "outputs": []
    },
    {
      "cell_type": "code",
      "source": [
        "johan = Bank(\"Johan\", 20, \"Male\")\n",
        "johan.deposit(100)\n",
        "johan.withdraw(25)\n",
        "johan.view_balance()"
      ],
      "metadata": {
        "colab": {
          "base_uri": "https://localhost:8080/"
        },
        "id": "05cxyDEcspwL",
        "outputId": "3d99db32-f322-414d-efcb-08e651f9629f"
      },
      "execution_count": 16,
      "outputs": [
        {
          "output_type": "stream",
          "name": "stdout",
          "text": [
            "Account balance has been updated: USD 100.\n",
            "Account balance has been updated: USD 75.\n",
            "Personal user details:\n",
            "Name= Johan\n",
            "Age= 20\n",
            "Gender= Male\n",
            "User details: None\n",
            "Account balance is: USD 75\n"
          ]
        }
      ]
    }
  ]
}